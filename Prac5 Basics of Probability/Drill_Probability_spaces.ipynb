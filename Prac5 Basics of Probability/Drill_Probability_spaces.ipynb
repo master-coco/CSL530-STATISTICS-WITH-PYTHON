{
 "cells": [
  {
   "cell_type": "markdown",
   "metadata": {},
   "source": [
    "# Drill Probability Spaces \n"
   ]
  },
  {
   "cell_type": "markdown",
   "metadata": {},
   "source": [
    "<b>1)</b> Give a possible sample space $\\Omega$ for each of the follow experiments <p>\n",
    "(a) An election decides between two candidates A and B  <p>\n",
    "\n",
    "\n",
    "(b) A two-sided coin is tossed. \n",
    "\n",
    "\n",
    "(c) You choose the color of your new car's exterior (choices: red, black, silver, green) and interior (choices: black, beige)?\n"
   ]
  },
  {
   "attachments": {},
   "cell_type": "markdown",
   "metadata": {},
   "source": [
    "***\n",
    "```\n",
    "(a) Sample space Ω = {A, B} \n",
    "\n",
    "(b) Sample space Ω = {Heads, Tails} \n",
    "\n",
    "(c) Sample space Ω = {(Red, Black), (Red, Beige), (Silver, Black), (Silver, Beige), (Green, Black), (Green, Beige)}\n",
    "```\n",
    "***"
   ]
  },
  {
   "cell_type": "markdown",
   "metadata": {},
   "source": [
    "<b>2)</b> In each of the following situations, define the sample space $\\Omega$.\n",
    "\n",
    "(a) A fair coin is tossed 200 times in a row <p> \n",
    "\n",
    "(b) You count the number of people who enter a department store on a particular Sunday <p>\n",
    "\n",
    "\n",
    "(c) You open up <i> Hamlet </i> and pick a word at random <p>\n"
   ]
  },
  {
   "attachments": {},
   "cell_type": "markdown",
   "metadata": {},
   "source": [
    "***\n",
    "```\n",
    "(a) Sample space Ω = {H, T}^200\n",
    "\n",
    "(b) Sample space Ω = {total people in the world}\n",
    "\n",
    "(c) Sample space Ω = {all words in hamlet}\n",
    "```\n",
    "***"
   ]
  },
  {
   "cell_type": "markdown",
   "metadata": {},
   "source": [
    "<b>3)</b> Let A, B, and C be events defined on a particular sample $\\Omega$. Write expressions for the following combinations of events <p>\n",
    "(a) All three events occur. <p>\n",
    "\n",
    "(b) At least one of the events occurs <p>\n",
    "\n",
    "(c) A and B occur, but not C <p>\n",
    "\n",
    " <p>"
   ]
  },
  {
   "attachments": {},
   "cell_type": "markdown",
   "metadata": {},
   "source": [
    "***\n",
    "```\n",
    "(a) A ∩ B ∩ C\n",
    "\n",
    "(b) A ∪ B ∪ C\n",
    "\n",
    "(c) (A ∩ B) \\ (A ∩ B ∩ C)\n",
    "\n",
    "```\n",
    "***"
   ]
  },
  {
   "cell_type": "markdown",
   "metadata": {},
   "source": [
    "<b>4)</b> Consider a sample space $\\Omega$ = {a,b,c} with probabilities Pr(a) = $\\frac{1}{2}$ and Pr(b) = $\\frac{1}{3}$\n",
    "<p>\n",
    "Pr(c) =???<p>"
   ]
  },
  {
   "attachments": {},
   "cell_type": "markdown",
   "metadata": {},
   "source": [
    "***\n",
    "```\n",
    "Pr(c) = 1 - 1/2 - 1/3 = 1/6\n",
    "```\n",
    "***"
   ]
  },
  {
   "cell_type": "markdown",
   "metadata": {},
   "source": [
    "<b>5)</b> A fair coin is tossed three times in succession. Describe in words each of the following events on sample space {H,T}$^{3}$ <p>\n",
    "\n",
    "(a) E$_{1}$ = {HHH, HHT, HTH, HTT}\n",
    "\n",
    "(b) E$_{2}$ = {HHH, TTT}\n",
    "\n",
    "(c) E$_{3}$ = {HHT, HTH,THH}\n"
   ]
  },
  {
   "attachments": {},
   "cell_type": "markdown",
   "metadata": {},
   "source": [
    "***\n",
    "```\n",
    "a) Events with first outcome as Head (H) only.\n",
    "\n",
    "b) Events with all Heads & all Tails\n",
    "\n",
    "c) Events with 2 heads and 1 tail\n",
    "```\n",
    "***"
   ]
  },
  {
   "cell_type": "markdown",
   "metadata": {},
   "source": [
    "<img src=\"images/union_intersection.png\">"
   ]
  },
  {
   "cell_type": "markdown",
   "metadata": {},
   "source": [
    "<b>6)</b> Let A and B be events on a sample space $\\Omega$ such that Pr(A $\\cap$ B) = $\\frac{1}{4}$, Pr(A$^{c}$) = $\\frac{1}{3}$, and Pr(B) = $\\frac{1}{2}$. Here A$^{c}$ = $\\Omega$\\A is the event that A doesn't matter. What is Pr(A $\\cup$ B)?"
   ]
  },
  {
   "cell_type": "code",
   "execution_count": 11,
   "metadata": {},
   "outputs": [
    {
     "name": "stdout",
     "output_type": "stream",
     "text": [
      "0.9166666666666667\n"
     ]
    }
   ],
   "source": [
    "A = 1-(1/3)\n",
    "B = 1/2\n",
    "union = A + B - (1/4)\n",
    "print(union)"
   ]
  },
  {
   "cell_type": "markdown",
   "metadata": {},
   "source": [
    "<b>7)</b> A pair of dice is rolled. What is the probability that they show the same value <p>\n"
   ]
  },
  {
   "attachments": {},
   "cell_type": "markdown",
   "metadata": {},
   "source": [
    "***\n",
    "```\n",
    "6/36 = 1/6\n",
    "```\n",
    "***"
   ]
  },
  {
   "cell_type": "markdown",
   "metadata": {},
   "source": [
    "<b>14)</b> A barrel contains 90 good apples and 10 rotten apples. If ten of the apples are chosen at random, what is the probability that they are all good? <p>\n"
   ]
  },
  {
   "cell_type": "code",
   "execution_count": 13,
   "metadata": {
    "collapsed": false,
    "jupyter": {
     "outputs_hidden": false
    }
   },
   "outputs": [
    {
     "name": "stdout",
     "output_type": "stream",
     "text": [
      "0.33047621108672515\n"
     ]
    }
   ],
   "source": [
    "import math\n",
    "omega = math.factorial(90) / (math.factorial(10) * math.factorial(80))\n",
    "\n",
    "t = math.factorial(100) / (math.factorial(10) * math.factorial(90))\n",
    "print(float(omega)/float(t))"
   ]
  },
  {
   "cell_type": "markdown",
   "metadata": {},
   "source": [
    "<b>16)</b> Assume that whenever a child is born, it is equally likely to be a girl or boy, independent of any earlier children. What is the probability that a randomly-chosen family with 6 children has exactly three girls and three boys? "
   ]
  },
  {
   "attachments": {},
   "cell_type": "markdown",
   "metadata": {},
   "source": [
    "$$\\left(\n",
    "    \\begin{array}{c}\n",
    "      6 \\\\\n",
    "      3\n",
    "    \\end{array}\n",
    "  \\right) = |A|$$\n",
    "<p>\n",
    "$$|A| = \\frac{6!}{3!(6-3)!} = 20$$\n",
    "\n",
    "Pr(A) = $\\frac{|A|}{\\Omega}$ = $\\frac{20}{2^{6}}$ = $\\frac{5}{16}$"
   ]
  }
 ],
 "metadata": {
  "kernelspec": {
   "display_name": "Python 3",
   "language": "python",
   "name": "python3"
  },
  "language_info": {
   "codemirror_mode": {
    "name": "ipython",
    "version": 3
   },
   "file_extension": ".py",
   "mimetype": "text/x-python",
   "name": "python",
   "nbconvert_exporter": "python",
   "pygments_lexer": "ipython3",
   "version": "3.10.8"
  },
  "vscode": {
   "interpreter": {
    "hash": "9306ec0a6c4a098ffd1cb5c5ff35c4b35e1b177f5d4003d31e4acf168a625bd9"
   }
  }
 },
 "nbformat": 4,
 "nbformat_minor": 4
}
