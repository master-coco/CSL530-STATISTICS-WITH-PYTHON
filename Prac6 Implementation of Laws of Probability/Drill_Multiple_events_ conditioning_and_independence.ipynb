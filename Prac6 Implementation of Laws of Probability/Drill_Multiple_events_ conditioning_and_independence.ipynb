{
 "cells": [
  {
   "cell_type": "markdown",
   "metadata": {},
   "source": [
    "# Drill Laws of Probability"
   ]
  },
  {
   "cell_type": "markdown",
   "metadata": {},
   "source": [
    "<b>1)</b> A coin is tossed three times. What is the probability that there are exactly two heads, given that <p>\n"
   ]
  },
  {
   "cell_type": "markdown",
   "metadata": {},
   "source": [
    "(a) the first outcome is a head? <p>\n",
    "\n",
    "(b) the first outcome is a tail? <p>\n",
    "\n",
    "(c) the first two outcomes are both heads? <p>\n",
    "\n",
    "(d) the first two outcomes are both tails? <p>\n",
    "\n",
    "(e) the first outcome is a head and the third outcome is a tail? <p>\n"
   ]
  },
  {
   "attachments": {},
   "cell_type": "markdown",
   "metadata": {},
   "source": [
    "***\n",
    "```\n",
    "CompleteSampleSpace = {HHH,HHT,HTH,HTT,THH,THT,TTH,TTT}\n",
    "\n",
    "a) {HHH,HHT,HTH,HTT} First Head = 2/4 = 1/2\n",
    "\n",
    "b) {THH,THT,TTH,TTT} First Tail = 1/4\n",
    "\n",
    "c) {HHH,HHT} Both Heads = 1/2\n",
    "\n",
    "d) {TTH,TTT} Both Tails = 0\n",
    "\n",
    "e) {HHT,HTT} 1/2\n",
    "```\n",
    "***"
   ]
  },
  {
   "attachments": {},
   "cell_type": "markdown",
   "metadata": {},
   "source": [
    "<b>2)</b> A student must choose exactly two of the following three electives: art, French, or mathematics. The probability that he choses art is $\\frac{5}{8}$ and the probability that he chooses both art and French is $\\frac{1}{4}$. The probability that he choses french is $\\frac{5}{8}$ <p>\n",
    "\n"
   ]
  },
  {
   "cell_type": "markdown",
   "metadata": {},
   "source": [
    "(a) What is the probability that he chooses mathematics? <p>\n",
    "\n",
    "(b) What is the probability that he chooses either art or French? <p>\n"
   ]
  },
  {
   "attachments": {},
   "cell_type": "markdown",
   "metadata": {},
   "source": [
    "***\n",
    "```\n",
    "Let A,F,M be the events representing Art, French, Maths\n",
    "P(A) = 5/8\n",
    "P(F) = 5/8\n",
    "P(A ∩ F) = 1/4\n",
    "P(M)= ??\n",
    "P(A ∪ F)= ??\n",
    "\n",
    "(a) P(M) = P(M ∩ A) + P(F ∩ M)\n",
    "P(M ∩ A) = P(F ∩ M) = 5/8 - 1/4 = 3/8\n",
    "P(M) = 3/8 + 3/8 = 6/8 = 3/4\n",
    "\n",
    "(b) P(A ∪ F) = P(A) + P(F) - P(A ∩ F)\n",
    "P(A ∪ F) = 5/8 + 5/8 - 1/4\n",
    "P(A ∪ F) = 1\n",
    "```\n",
    "***"
   ]
  },
  {
   "cell_type": "markdown",
   "metadata": {},
   "source": [
    "<b>3)</b> For a bill to come before the president of the United States, it must be passed by both the House of Representatives and the Senate. Assume that, of the bills presented to the two bodies, 60% pass the House, 80% pass the Senate, and 90% pass at least one of the two. Calculate the probability that the next bill presented to the two groups will come before the president. <p> "
   ]
  },
  {
   "attachments": {},
   "cell_type": "markdown",
   "metadata": {},
   "source": [
    "***\n",
    "```\n",
    "P(H) = 0.6\n",
    "P(S) = 0.8\n",
    "P(H ∪ S) = 0.9\n",
    "0.9 = 0.6 + 0.8 - P(H ∩ S)\n",
    "P(H ∩ S) = 0.5\n",
    "```\n",
    "***"
   ]
  },
  {
   "cell_type": "markdown",
   "metadata": {},
   "source": [
    "<b>5)</b> A card is drawn at random from a standard deck. What is the probability that: <p> \n",
    "(a) it is a heart, given that it is red? <p> \n",
    "\n",
    "(b) it is higher than a ten, given that it is a heart (interpret J, Q, K, A as having numeric value 11,12,13,14)?<p> \n",
    "\n",
    "(c) it is a jack, given that it is higher than a 10? <p> \n"
   ]
  },
  {
   "attachments": {},
   "cell_type": "markdown",
   "metadata": {},
   "source": [
    "***\n",
    "```\n",
    "\n",
    "```\n",
    "***"
   ]
  },
  {
   "cell_type": "markdown",
   "metadata": {},
   "source": [
    "<b>6)</b> If P(B$^{c}$) = $\\frac{1}{4}$ and Pr(A|B) = $\\frac{1}{2}$, what is Pr(A $\\cap$ B)?"
   ]
  },
  {
   "attachments": {},
   "cell_type": "markdown",
   "metadata": {},
   "source": [
    "***\n",
    "```\n",
    "\n",
    "```\n",
    "***"
   ]
  },
  {
   "cell_type": "markdown",
   "metadata": {},
   "source": [
    "<b>7)</b> Suppose that there are equal numbers of men and women in the world, and that 5% of men are colorblind only 1% of women are colorblind. A person is chosen at random and found to be colorblind. What is the probability that the person is male? "
   ]
  },
  {
   "attachments": {},
   "cell_type": "markdown",
   "metadata": {},
   "source": [
    "***\n",
    "```\n",
    "\n",
    "```\n",
    "***"
   ]
  },
  {
   "cell_type": "code",
   "execution_count": 2,
   "metadata": {
    "collapsed": false,
    "jupyter": {
     "outputs_hidden": false
    }
   },
   "outputs": [
    {
     "name": "stdout",
     "output_type": "stream",
     "text": [
      "0.833333333333\n"
     ]
    }
   ],
   "source": []
  },
  {
   "attachments": {},
   "cell_type": "markdown",
   "metadata": {},
   "source": [
    "<b>8)</b> A coin is tossed three times. Consider the following five events? <p> \n",
    "<li> A: Heads on the first toss </li>\n",
    "<li> B: Tails on the second toss </li>\n",
    "<li> C: Heads on the third toss </li>\n",
    "<li> D: All three outcomes the same </li>\n",
    "<li> E: Exactly one Head turn up</li><p> \n",
    "(a) Which of the following pairs of events are independent? <p> \n",
    "(1) A, B <p> \n",
    "\n",
    "(2) A, D <p> \n",
    "\n",
    "(3) A, E <p> \n",
    "\n",
    "(4) D, E <p> \n"
   ]
  },
  {
   "attachments": {},
   "cell_type": "markdown",
   "metadata": {},
   "source": [
    "***\n",
    "```\n",
    "\n",
    "```\n",
    "***"
   ]
  },
  {
   "cell_type": "markdown",
   "metadata": {},
   "source": [
    "<b>09)</b> You randomly shuffle a standard deck and deal two cards. Which of the following pairs of events are independent? <p> \n",
    "(1) A = {first card is a heart}, B = {second card is a heart} <p>\n",
    "\n",
    "(2) A = {first card is a heart}, B = {first card is a 10}<p>\n",
    "\n",
    "(3) A = {first card is a 10}, B = {second card is a 9} <p> \n",
    "\n",
    "(4) A = {first card is a heart}, B = {second card is a 10} <p> \n"
   ]
  },
  {
   "attachments": {},
   "cell_type": "markdown",
   "metadata": {},
   "source": [
    "***\n",
    "```\n",
    "\n",
    "```\n",
    "***"
   ]
  },
  {
   "cell_type": "code",
   "execution_count": null,
   "metadata": {},
   "outputs": [],
   "source": []
  }
 ],
 "metadata": {
  "kernelspec": {
   "display_name": "Python 3",
   "language": "python",
   "name": "python3"
  },
  "language_info": {
   "codemirror_mode": {
    "name": "ipython",
    "version": 3
   },
   "file_extension": ".py",
   "mimetype": "text/x-python",
   "name": "python",
   "nbconvert_exporter": "python",
   "pygments_lexer": "ipython3",
   "version": "3.8.5"
  }
 },
 "nbformat": 4,
 "nbformat_minor": 4
}
