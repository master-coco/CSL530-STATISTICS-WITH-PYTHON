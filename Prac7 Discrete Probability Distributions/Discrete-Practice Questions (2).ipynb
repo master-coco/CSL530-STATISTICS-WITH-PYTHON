{
 "cells": [
  {
   "cell_type": "markdown",
   "metadata": {},
   "source": [
    "# Discrete Probability Distributions: Practice Questions"
   ]
  },
  {
   "cell_type": "markdown",
   "metadata": {},
   "source": [
    "## Q1. College Graduates in a Random Sample \n",
    "Suppose you take a sample of 100 people at random with replacement from a population in which 20% of the people are college graduates. What is the chance that you get more than 10 college graduates in your sample?\n",
    "\n",
    "Hint: The sample is being drawn with replacement. So the draws are  n=100  independent trials, each of which results in a success (college graduate) with chance  p=0.2 .\n",
    "\n",
    "Let  X  be the number of college graduates in the sample. Then  X  has the binomial  (100,0.2)  distribution.\n",
    "\n",
    "We want  P(X>10) "
   ]
  },
  {
   "cell_type": "code",
   "execution_count": 1,
   "metadata": {},
   "outputs": [
    {
     "data": {
      "text/plain": [
       "0.9943036190442062"
      ]
     },
     "execution_count": 1,
     "metadata": {},
     "output_type": "execute_result"
    }
   ],
   "source": [
    "from scipy import stats\n",
    "import numpy as np\n",
    "from scipy.stats import binom\n",
    "sum(stats.binom.pmf(np.arange(11, 101), 100, 0.2))"
   ]
  },
  {
   "cell_type": "markdown",
   "metadata": {},
   "source": [
    "## Q2. Two Sixes in Five Rolls \n",
    "Suppose a die is rolled five times. What is the chance of getting two sixes?\n",
    "\n",
    "Hint: A natural way to approach the question is to say that we have five independent trials, each of which can be a success (six) or failure (not a six). We want the chance of two successes. As always, it is good to start by listing some of the ways the event can happen."
   ]
  },
  {
   "cell_type": "code",
   "execution_count": 2,
   "metadata": {},
   "outputs": [
    {
     "data": {
      "text/plain": [
       "0.16075102880658423"
      ]
     },
     "execution_count": 2,
     "metadata": {},
     "output_type": "execute_result"
    }
   ],
   "source": [
    "stats.binom.pmf(2, 5, 1/6)"
   ]
  },
  {
   "cell_type": "markdown",
   "metadata": {},
   "source": [
    "## Q3. The chance of getting two sixes in a 5 card poker hand\n",
    "\n",
    "Hint: If you are interested in the number of aces in a 5-card poker hand, then the population is the deck consisting of  N=52  cards of which  G=4  are good (aces) and the remaining  N−G=48  are bad. The hand is the simple random sample of size  n=5 , and  X  is the number of good elements in the sample."
   ]
  },
  {
   "cell_type": "code",
   "execution_count": null,
   "metadata": {},
   "outputs": [],
   "source": []
  },
  {
   "cell_type": "markdown",
   "metadata": {},
   "source": [
    "## Q4. Sampling from a State \n",
    "A state has several million households, half of which have annual incomes over 50,000 dollars. In a simple random sample of 400 households taken from the state, what is the chance that more than 215 have incomes over 50,000 dollars?"
   ]
  },
  {
   "cell_type": "code",
   "execution_count": null,
   "metadata": {},
   "outputs": [],
   "source": []
  },
  {
   "cell_type": "markdown",
   "metadata": {},
   "source": [
    "## Q5. Defective Drives\n",
    "\n",
    "A manufacturing process produces large cases of USB flash drives. In each case, the number of defective drives has the Poisson (2.5) distribution, independent of all other cases.\n",
    "\n",
    "What is the chance that all of the next five cases contain more than one defective drive?"
   ]
  },
  {
   "cell_type": "code",
   "execution_count": null,
   "metadata": {},
   "outputs": [],
   "source": []
  },
  {
   "cell_type": "markdown",
   "metadata": {},
   "source": [
    "## Sums of Independent Poisson Random Variables \n",
    "A useful property of the Poisson distribution is that if  X  and  Y  are random variables such that\n",
    "\n",
    "X  and  Y  are independent,\n",
    "X  has the Poisson  (μ)  distribution, and\n",
    "Y  has the Poisson  (λ)  distribution,\n",
    "then the sum  S=X+Y  has the Poisson  (μ+λ)  distribution."
   ]
  },
  {
   "cell_type": "markdown",
   "metadata": {},
   "source": [
    "## Q6. Ilegally parked cars\n",
    "An office building has three parking lots. For  i=1,2,3  let  Xi  be the number of illegaly parked cars in Lot  i , and let  Xi  have the Poisson distribution with parameter  i . Assume that  X1,X2,X3  are independent of each other.\n",
    "\n",
    "What is the chance that there are no more than 10 illegally parked cars in all three lots combined?"
   ]
  },
  {
   "cell_type": "code",
   "execution_count": null,
   "metadata": {},
   "outputs": [],
   "source": []
  }
 ],
 "metadata": {
  "kernelspec": {
   "display_name": "Python 3",
   "language": "python",
   "name": "python3"
  },
  "language_info": {
   "codemirror_mode": {
    "name": "ipython",
    "version": 3
   },
   "file_extension": ".py",
   "mimetype": "text/x-python",
   "name": "python",
   "nbconvert_exporter": "python",
   "pygments_lexer": "ipython3",
   "version": "3.10.8"
  },
  "vscode": {
   "interpreter": {
    "hash": "9306ec0a6c4a098ffd1cb5c5ff35c4b35e1b177f5d4003d31e4acf168a625bd9"
   }
  }
 },
 "nbformat": 4,
 "nbformat_minor": 4
}
