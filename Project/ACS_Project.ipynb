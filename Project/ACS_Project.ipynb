{
  "cells": [
    {
      "cell_type": "markdown",
      "metadata": {
        "id": "ororqBmQmLSL"
      },
      "source": [
        "Consumers are asked to rate a company both before and after viewing a video on the company twice a day for a week. The data are displayed in table below.\n",
        "Use an alpha of .05 to test to determine whether there is a significant increase in the ratings of the company after the one-week video treatment. Assume that differences in ratings are normally distributed in the population."
      ]
    },
    {
      "cell_type": "code",
      "execution_count": 1,
      "metadata": {
        "id": "xEYjykh9KZMm"
      },
      "outputs": [],
      "source": [
        "import numpy as np\n",
        "from scipy import stats\n",
        "import pandas as pd\n",
        "import gdown"
      ]
    },
    {
      "cell_type": "code",
      "execution_count": 3,
      "metadata": {
        "colab": {
          "base_uri": "https://localhost:8080/",
          "height": 369
        },
        "id": "pakYn8vrLKQQ",
        "outputId": "bdbdc18e-4f55-4514-e62a-c2f7e06b6195"
      },
      "outputs": [
        {
          "name": "stderr",
          "output_type": "stream",
          "text": [
            "Downloading...\n",
            "From: https://docs.google.com/uc?id=1VPOwYgABrqhwHNE8gE8AlhrIlxvu5Lyj\n",
            "To: c:\\Users\\krish\\OneDrive\\Pictures\\CS 8th sem\\New folder\\CSL530-STATISTICS-WITH-PYTHON\\Project\\file.xlsx\n",
            "100%|██████████| 246k/246k [00:00<00:00, 622kB/s]\n"
          ]
        },
        {
          "data": {
            "text/html": [
              "<div>\n",
              "<style scoped>\n",
              "    .dataframe tbody tr th:only-of-type {\n",
              "        vertical-align: middle;\n",
              "    }\n",
              "\n",
              "    .dataframe tbody tr th {\n",
              "        vertical-align: top;\n",
              "    }\n",
              "\n",
              "    .dataframe thead th {\n",
              "        text-align: right;\n",
              "    }\n",
              "</style>\n",
              "<table border=\"1\" class=\"dataframe\">\n",
              "  <thead>\n",
              "    <tr style=\"text-align: right;\">\n",
              "      <th></th>\n",
              "      <th>Before</th>\n",
              "      <th>After</th>\n",
              "      <th>Difference</th>\n",
              "    </tr>\n",
              "    <tr>\n",
              "      <th>Subject</th>\n",
              "      <th></th>\n",
              "      <th></th>\n",
              "      <th></th>\n",
              "    </tr>\n",
              "  </thead>\n",
              "  <tbody>\n",
              "    <tr>\n",
              "      <th>1</th>\n",
              "      <td>32</td>\n",
              "      <td>39</td>\n",
              "      <td>7</td>\n",
              "    </tr>\n",
              "    <tr>\n",
              "      <th>2</th>\n",
              "      <td>11</td>\n",
              "      <td>15</td>\n",
              "      <td>4</td>\n",
              "    </tr>\n",
              "    <tr>\n",
              "      <th>3</th>\n",
              "      <td>21</td>\n",
              "      <td>35</td>\n",
              "      <td>14</td>\n",
              "    </tr>\n",
              "    <tr>\n",
              "      <th>4</th>\n",
              "      <td>17</td>\n",
              "      <td>13</td>\n",
              "      <td>-4</td>\n",
              "    </tr>\n",
              "    <tr>\n",
              "      <th>5</th>\n",
              "      <td>30</td>\n",
              "      <td>41</td>\n",
              "      <td>11</td>\n",
              "    </tr>\n",
              "    <tr>\n",
              "      <th>6</th>\n",
              "      <td>38</td>\n",
              "      <td>39</td>\n",
              "      <td>1</td>\n",
              "    </tr>\n",
              "    <tr>\n",
              "      <th>7</th>\n",
              "      <td>14</td>\n",
              "      <td>22</td>\n",
              "      <td>8</td>\n",
              "    </tr>\n",
              "  </tbody>\n",
              "</table>\n",
              "</div>"
            ],
            "text/plain": [
              "         Before  After  Difference\n",
              "Subject                           \n",
              "1            32     39           7\n",
              "2            11     15           4\n",
              "3            21     35          14\n",
              "4            17     13          -4\n",
              "5            30     41          11\n",
              "6            38     39           1\n",
              "7            14     22           8"
            ]
          },
          "execution_count": 3,
          "metadata": {},
          "output_type": "execute_result"
        }
      ],
      "source": [
        "file_url = 'https://docs.google.com/uc?id=1VPOwYgABrqhwHNE8gE8AlhrIlxvu5Lyj'\n",
        "gdown.download(file_url, 'file.xlsx', quiet=False)\n",
        "df1 = pd.read_excel('file.xlsx',sheet_name = 'Video ratings',skiprows=13,usecols=['Subject', 'Before', 'After', 'Difference'], index_col= 'Subject')\n",
        "df1"
      ]
    },
    {
      "cell_type": "markdown",
      "metadata": {
        "id": "BycDXLh12xZw"
      },
      "source": [
        "### Task 1: Calculate the mean and standard deviation"
      ]
    },
    {
      "cell_type": "code",
      "execution_count": 4,
      "metadata": {
        "colab": {
          "base_uri": "https://localhost:8080/",
          "height": 112
        },
        "id": "Kx14qOckgjqG",
        "outputId": "a9849e41-5cac-4ad8-e2c0-3dd8ee59ec42"
      },
      "outputs": [
        {
          "data": {
            "text/html": [
              "<div>\n",
              "<style scoped>\n",
              "    .dataframe tbody tr th:only-of-type {\n",
              "        vertical-align: middle;\n",
              "    }\n",
              "\n",
              "    .dataframe tbody tr th {\n",
              "        vertical-align: top;\n",
              "    }\n",
              "\n",
              "    .dataframe thead th {\n",
              "        text-align: right;\n",
              "    }\n",
              "</style>\n",
              "<table border=\"1\" class=\"dataframe\">\n",
              "  <thead>\n",
              "    <tr style=\"text-align: right;\">\n",
              "      <th></th>\n",
              "      <th>Before</th>\n",
              "      <th>After</th>\n",
              "      <th>Difference</th>\n",
              "    </tr>\n",
              "  </thead>\n",
              "  <tbody>\n",
              "    <tr>\n",
              "      <th>Mean</th>\n",
              "      <td>23.285714</td>\n",
              "      <td>29.142857</td>\n",
              "      <td>5.857143</td>\n",
              "    </tr>\n",
              "    <tr>\n",
              "      <th>Std Dev</th>\n",
              "      <td>10.160615</td>\n",
              "      <td>12.116498</td>\n",
              "      <td>6.094494</td>\n",
              "    </tr>\n",
              "  </tbody>\n",
              "</table>\n",
              "</div>"
            ],
            "text/plain": [
              "            Before      After  Difference\n",
              "Mean     23.285714  29.142857    5.857143\n",
              "Std Dev  10.160615  12.116498    6.094494"
            ]
          },
          "execution_count": 4,
          "metadata": {},
          "output_type": "execute_result"
        }
      ],
      "source": [
        "df2=pd.DataFrame(columns=df1.columns)\n",
        "df2.loc[\"Mean\"]= df1.mean()\n",
        "df2.loc[\"Std Dev\"] = df1.std()\n",
        "\n",
        "df2"
      ]
    },
    {
      "cell_type": "markdown",
      "metadata": {
        "id": "x0bq_zdtfzqq"
      },
      "source": [
        "### Task 2: Determine the appropriate statistic to use\n",
        "\n",
        "The appropriate statistic to use for this scenario would be a paired t-test, also known as a dependent t-test. This is because the data involves comparing ratings of the same individuals before and after a treatment (in this case, viewing a video on the company) over a period of time (one week), and the ratings are assumed to be normally distributed in the population.\n",
        "\n",
        "A paired t-test is used when the same individuals are measured twice under different conditions, and it is ideal for situations where the data are paired or matched, such as pre-test and post-test measurements or repeated measures designs. In this case, the paired t-test would allow us to assess whether there is a statistically significant difference in the ratings of the company before and after the one-week video treatment. The alpha level of 0.05 would be used as the significance level to determine whether the observed difference in ratings is statistically significant or due to chance."
      ]
    },
    {
      "cell_type": "markdown",
      "metadata": {
        "id": "oFA0gRUo3Bc5"
      },
      "source": [
        "### Task 3: Calculate the 95% confidence intervals"
      ]
    },
    {
      "cell_type": "code",
      "execution_count": 7,
      "metadata": {
        "colab": {
          "base_uri": "https://localhost:8080/",
          "height": 175
        },
        "id": "n0euCZgSq_Dz",
        "outputId": "7a04ccb5-ca02-49e3-d59f-a4146c6c6333"
      },
      "outputs": [
        {
          "data": {
            "text/html": [
              "<div>\n",
              "<style scoped>\n",
              "    .dataframe tbody tr th:only-of-type {\n",
              "        vertical-align: middle;\n",
              "    }\n",
              "\n",
              "    .dataframe tbody tr th {\n",
              "        vertical-align: top;\n",
              "    }\n",
              "\n",
              "    .dataframe thead th {\n",
              "        text-align: right;\n",
              "    }\n",
              "</style>\n",
              "<table border=\"1\" class=\"dataframe\">\n",
              "  <thead>\n",
              "    <tr style=\"text-align: right;\">\n",
              "      <th></th>\n",
              "      <th>Before</th>\n",
              "      <th>After</th>\n",
              "      <th>Difference</th>\n",
              "    </tr>\n",
              "  </thead>\n",
              "  <tbody>\n",
              "    <tr>\n",
              "      <th>Mean</th>\n",
              "      <td>23.285714</td>\n",
              "      <td>29.142857</td>\n",
              "      <td>5.857143</td>\n",
              "    </tr>\n",
              "    <tr>\n",
              "      <th>Std Dev</th>\n",
              "      <td>10.160615</td>\n",
              "      <td>12.116498</td>\n",
              "      <td>6.094494</td>\n",
              "    </tr>\n",
              "    <tr>\n",
              "      <th>Lower_95</th>\n",
              "      <td>13.888713</td>\n",
              "      <td>17.936965</td>\n",
              "      <td>0.220676</td>\n",
              "    </tr>\n",
              "    <tr>\n",
              "      <th>Upper_95</th>\n",
              "      <td>32.682716</td>\n",
              "      <td>40.348749</td>\n",
              "      <td>11.493610</td>\n",
              "    </tr>\n",
              "  </tbody>\n",
              "</table>\n",
              "</div>"
            ],
            "text/plain": [
              "             Before      After  Difference\n",
              "Mean      23.285714  29.142857    5.857143\n",
              "Std Dev   10.160615  12.116498    6.094494\n",
              "Lower_95  13.888713  17.936965    0.220676\n",
              "Upper_95  32.682716  40.348749   11.493610"
            ]
          },
          "execution_count": 7,
          "metadata": {},
          "output_type": "execute_result"
        }
      ],
      "source": [
        "lower, upper = stats.t.interval(confidence=0.95,df=6,loc=df1.mean(),scale=stats.sem(df1)) # stats.sem(df1) is equivalent to df1.std()/np.sqrt(7)\n",
        "\n",
        "df2.loc[\"Lower_95\"]=lower\n",
        "df2.loc[\"Upper_95\"]=upper\n",
        "df2"
      ]
    },
    {
      "cell_type": "markdown",
      "metadata": {
        "id": "lYdeZX_75-85"
      },
      "source": [
        "### Task 4: Test if there is enough evidence to conclude that the ratings have increased significantly"
      ]
    },
    {
      "cell_type": "markdown",
      "metadata": {
        "id": "-YWBOTGZ3WKD"
      },
      "source": [
        "> **Step 1: Define null and alternative hypotheses**\n",
        "\n",
        "The null hypothesis states that the mean of video rating are the same, µA equals µB. The alternative hypothesis states that the mean of video rating, µA is not equal to µB."
      ]
    },
    {
      "cell_type": "markdown",
      "metadata": {
        "id": "SRsgD1Om4RI5"
      },
      "source": [
        "![Capture 1.PNG](data:image/png;base64,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)"
      ]
    },
    {
      "cell_type": "markdown",
      "metadata": {
        "id": "9CShLnmh4uAB"
      },
      "source": [
        "> **Step 2: Decide the significance level**\n",
        "\n",
        "Here we select α = 0.05 and the population standard deviation is not known."
      ]
    },
    {
      "cell_type": "markdown",
      "metadata": {
        "id": "3DdNkB0W48Bg"
      },
      "source": [
        "> **Step 3: Identify the test statistic**\n",
        "\n",
        "* We have two samples and we do not know the population standard deviation.\n",
        "* Sample sizes for samples are same.\n",
        "* The sample is not a large sample, n < 30. So you use the t distribution and the test statistic for two sample unpaired test."
      ]
    },
    {
      "cell_type": "markdown",
      "metadata": {
        "id": "lEmYN2vY5YDn"
      },
      "source": [
        "> **Step 4: Calculate the p - value and test statistic**\n",
        "\n",
        "This is a two-sided test for the null hypothesis that 2 independent samples have identical average (expected) values. This test assumes that the populations\n",
        "have identical variances."
      ]
    },
    {
      "cell_type": "code",
      "execution_count": 8,
      "metadata": {
        "colab": {
          "base_uri": "https://localhost:8080/"
        },
        "id": "2zmEMo_vLihB",
        "outputId": "62cd8cdb-d9ba-464d-f222-abba7246bdb1"
      },
      "outputs": [
        {
          "name": "stdout",
          "output_type": "stream",
          "text": [
            "T - statistic is :  -2.542712059078773\n",
            "P Value is :  0.04391998543533062\n"
          ]
        }
      ],
      "source": [
        "t_stats , p_value = stats.ttest_rel(df1[\"Before\"], df1[\"After\"])\n",
        "print(\"T - statistic is : \", t_stats)\n",
        "print(\"P Value is : \", p_value)"
      ]
    },
    {
      "cell_type": "markdown",
      "metadata": {
        "id": "jgrgF_A565tL"
      },
      "source": [
        "> **Step 5: Decide to reject or accept null hypothesis**"
      ]
    },
    {
      "cell_type": "code",
      "execution_count": 9,
      "metadata": {
        "colab": {
          "base_uri": "https://localhost:8080/"
        },
        "id": "xzrju7dz6TEp",
        "outputId": "7e1227a6-2bc0-4ac5-fb7d-65bf9bd6b812"
      },
      "outputs": [
        {
          "name": "stdout",
          "output_type": "stream",
          "text": [
            "Reject null hypothesis. There is enough evidence to conclude that, on average, the ratings have increased significantly\n"
          ]
        }
      ],
      "source": [
        "if p_value < 0.05:\n",
        "    print(\"Reject null hypothesis. There is enough evidence to conclude that, on average, the ratings have increased significantly\")\n",
        "else:\n",
        "    print(\"Fail to reject null hypothesis. There is not enough evidence to conclude that, on average, the ratings have increased significantly.\")"
      ]
    },
    {
      "cell_type": "markdown",
      "metadata": {
        "id": "j5EZdJkL7HrL"
      },
      "source": [
        "### Optional Task : Calculate the 90% and 99% confidence intervals"
      ]
    },
    {
      "cell_type": "markdown",
      "metadata": {
        "id": "ZSnDRrLV774X"
      },
      "source": [
        "> **Decide the significance level**\n",
        "\n",
        "Here we select α = 0.10 and the population standard deviation is not known."
      ]
    },
    {
      "cell_type": "code",
      "execution_count": 10,
      "metadata": {
        "id": "L83zY_QCLtYq"
      },
      "outputs": [],
      "source": [
        "lower, upper = stats.t.interval(confidence=0.90,df=6,loc=df1.mean(),scale=df1.std()/np.sqrt(7))\n",
        "\n",
        "df2.loc[\"Lower_90\"] = lower\n",
        "df2.loc[\"Upper_90\"] = upper"
      ]
    },
    {
      "cell_type": "markdown",
      "metadata": {
        "id": "nsAwsobb7M52"
      },
      "source": [
        "> **Decide the significance level**\n",
        "\n",
        "Here we select α = 0.01 and the population standard deviation is not known."
      ]
    },
    {
      "cell_type": "code",
      "execution_count": 11,
      "metadata": {
        "colab": {
          "base_uri": "https://localhost:8080/",
          "height": 300
        },
        "id": "APrd2aw_7dV_",
        "outputId": "5843c9ee-c0c4-4925-f85d-895d9d94d689"
      },
      "outputs": [
        {
          "data": {
            "text/html": [
              "<div>\n",
              "<style scoped>\n",
              "    .dataframe tbody tr th:only-of-type {\n",
              "        vertical-align: middle;\n",
              "    }\n",
              "\n",
              "    .dataframe tbody tr th {\n",
              "        vertical-align: top;\n",
              "    }\n",
              "\n",
              "    .dataframe thead th {\n",
              "        text-align: right;\n",
              "    }\n",
              "</style>\n",
              "<table border=\"1\" class=\"dataframe\">\n",
              "  <thead>\n",
              "    <tr style=\"text-align: right;\">\n",
              "      <th></th>\n",
              "      <th>Before</th>\n",
              "      <th>After</th>\n",
              "      <th>Difference</th>\n",
              "    </tr>\n",
              "  </thead>\n",
              "  <tbody>\n",
              "    <tr>\n",
              "      <th>Mean</th>\n",
              "      <td>23.285714</td>\n",
              "      <td>29.142857</td>\n",
              "      <td>5.857143</td>\n",
              "    </tr>\n",
              "    <tr>\n",
              "      <th>Std Dev</th>\n",
              "      <td>10.160615</td>\n",
              "      <td>12.116498</td>\n",
              "      <td>6.094494</td>\n",
              "    </tr>\n",
              "    <tr>\n",
              "      <th>Lower_95</th>\n",
              "      <td>13.888713</td>\n",
              "      <td>17.936965</td>\n",
              "      <td>0.220676</td>\n",
              "    </tr>\n",
              "    <tr>\n",
              "      <th>Upper_95</th>\n",
              "      <td>32.682716</td>\n",
              "      <td>40.348749</td>\n",
              "      <td>11.493610</td>\n",
              "    </tr>\n",
              "    <tr>\n",
              "      <th>Lower_90</th>\n",
              "      <td>15.823219</td>\n",
              "      <td>20.243857</td>\n",
              "      <td>1.381023</td>\n",
              "    </tr>\n",
              "    <tr>\n",
              "      <th>Upper_90</th>\n",
              "      <td>30.748210</td>\n",
              "      <td>38.041857</td>\n",
              "      <td>10.333263</td>\n",
              "    </tr>\n",
              "    <tr>\n",
              "      <th>Lower_99</th>\n",
              "      <td>9.047888</td>\n",
              "      <td>12.164298</td>\n",
              "      <td>-2.682926</td>\n",
              "    </tr>\n",
              "    <tr>\n",
              "      <th>Upper_99</th>\n",
              "      <td>37.523541</td>\n",
              "      <td>46.121416</td>\n",
              "      <td>14.397212</td>\n",
              "    </tr>\n",
              "  </tbody>\n",
              "</table>\n",
              "</div>"
            ],
            "text/plain": [
              "             Before      After  Difference\n",
              "Mean      23.285714  29.142857    5.857143\n",
              "Std Dev   10.160615  12.116498    6.094494\n",
              "Lower_95  13.888713  17.936965    0.220676\n",
              "Upper_95  32.682716  40.348749   11.493610\n",
              "Lower_90  15.823219  20.243857    1.381023\n",
              "Upper_90  30.748210  38.041857   10.333263\n",
              "Lower_99   9.047888  12.164298   -2.682926\n",
              "Upper_99  37.523541  46.121416   14.397212"
            ]
          },
          "execution_count": 11,
          "metadata": {},
          "output_type": "execute_result"
        }
      ],
      "source": [
        "lower, upper = stats.t.interval(confidence=0.99,df=6,loc=df1.mean(),scale=df1.std()/np.sqrt(7))\n",
        "\n",
        "df2.loc[\"Lower_99\"] = lower\n",
        "df2.loc[\"Upper_99\"] = upper\n",
        "\n",
        "df2"
      ]
    }
  ],
  "metadata": {
    "colab": {
      "provenance": []
    },
    "kernelspec": {
      "display_name": ".venv",
      "language": "python",
      "name": "python3"
    },
    "language_info": {
      "codemirror_mode": {
        "name": "ipython",
        "version": 3
      },
      "file_extension": ".py",
      "mimetype": "text/x-python",
      "name": "python",
      "nbconvert_exporter": "python",
      "pygments_lexer": "ipython3",
      "version": "3.12.6"
    }
  },
  "nbformat": 4,
  "nbformat_minor": 0
}
