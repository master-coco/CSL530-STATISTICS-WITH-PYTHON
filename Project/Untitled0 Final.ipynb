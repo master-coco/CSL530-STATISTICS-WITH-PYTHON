{
  "cells": [
    {
      "cell_type": "code",
      "execution_count": 9,
      "metadata": {
        "id": "xEYjykh9KZMm"
      },
      "outputs": [],
      "source": [
        "import numpy as np\n",
        "from scipy import stats\n",
        "import pandas as pd"
      ]
    },
    {
      "cell_type": "code",
      "execution_count": 10,
      "metadata": {},
      "outputs": [
        {
          "data": {
            "text/html": [
              "<div>\n",
              "<style scoped>\n",
              "    .dataframe tbody tr th:only-of-type {\n",
              "        vertical-align: middle;\n",
              "    }\n",
              "\n",
              "    .dataframe tbody tr th {\n",
              "        vertical-align: top;\n",
              "    }\n",
              "\n",
              "    .dataframe thead th {\n",
              "        text-align: right;\n",
              "    }\n",
              "</style>\n",
              "<table border=\"1\" class=\"dataframe\">\n",
              "  <thead>\n",
              "    <tr style=\"text-align: right;\">\n",
              "      <th></th>\n",
              "      <th>Before</th>\n",
              "      <th>After</th>\n",
              "      <th>Difference</th>\n",
              "    </tr>\n",
              "    <tr>\n",
              "      <th>Subject</th>\n",
              "      <th></th>\n",
              "      <th></th>\n",
              "      <th></th>\n",
              "    </tr>\n",
              "  </thead>\n",
              "  <tbody>\n",
              "    <tr>\n",
              "      <th>1</th>\n",
              "      <td>32</td>\n",
              "      <td>39</td>\n",
              "      <td>7</td>\n",
              "    </tr>\n",
              "    <tr>\n",
              "      <th>2</th>\n",
              "      <td>11</td>\n",
              "      <td>15</td>\n",
              "      <td>4</td>\n",
              "    </tr>\n",
              "    <tr>\n",
              "      <th>3</th>\n",
              "      <td>21</td>\n",
              "      <td>35</td>\n",
              "      <td>14</td>\n",
              "    </tr>\n",
              "    <tr>\n",
              "      <th>4</th>\n",
              "      <td>17</td>\n",
              "      <td>13</td>\n",
              "      <td>-4</td>\n",
              "    </tr>\n",
              "    <tr>\n",
              "      <th>5</th>\n",
              "      <td>30</td>\n",
              "      <td>41</td>\n",
              "      <td>11</td>\n",
              "    </tr>\n",
              "    <tr>\n",
              "      <th>6</th>\n",
              "      <td>38</td>\n",
              "      <td>39</td>\n",
              "      <td>1</td>\n",
              "    </tr>\n",
              "    <tr>\n",
              "      <th>7</th>\n",
              "      <td>14</td>\n",
              "      <td>22</td>\n",
              "      <td>8</td>\n",
              "    </tr>\n",
              "  </tbody>\n",
              "</table>\n",
              "</div>"
            ],
            "text/plain": [
              "         Before  After  Difference\n",
              "Subject                           \n",
              "1            32     39           7\n",
              "2            11     15           4\n",
              "3            21     35          14\n",
              "4            17     13          -4\n",
              "5            30     41          11\n",
              "6            38     39           1\n",
              "7            14     22           8"
            ]
          },
          "execution_count": 10,
          "metadata": {},
          "output_type": "execute_result"
        }
      ],
      "source": [
        "import requests\n",
        "\n",
        "# Set up the direct download link\n",
        "file_url = 'https://docs.google.com/uc?id=1VPOwYgABrqhwHNE8gE8AlhrIlxvu5Lyj'\n",
        "\n",
        "# Download the file\n",
        "response = requests.get(file_url)\n",
        "\n",
        "with open('file.xlsx', 'wb') as f:\n",
        "    f.write(response.content)\n",
        "\n",
        "response.close()\n",
        "\n",
        "# Read the data into a dataframe\n",
        "df1 = pd.read_excel('file.xlsx',sheet_name = 'Video ratings',skiprows=13,usecols=['Subject', 'Before', 'After', 'Difference'], index_col= 'Subject')\n",
        "df1\n"
      ]
    },
    {
      "cell_type": "code",
      "execution_count": 11,
      "metadata": {
        "colab": {
          "base_uri": "https://localhost:8080/"
        },
        "id": "PMAJS53lOFcD",
        "outputId": "0420969c-5166-4e64-e3c3-7a355ee27000"
      },
      "outputs": [
        {
          "name": "stderr",
          "output_type": "stream",
          "text": [
            "Downloading...\n",
            "From: https://docs.google.com/uc?id=1VPOwYgABrqhwHNE8gE8AlhrIlxvu5Lyj\n",
            "To: d:\\NCU\\2nd Year\\Fourth Semester\\ACS\\Project\\file.xlsx\n",
            "100%|██████████| 246k/246k [00:03<00:00, 69.1kB/s]\n"
          ]
        },
        {
          "data": {
            "text/html": [
              "<div>\n",
              "<style scoped>\n",
              "    .dataframe tbody tr th:only-of-type {\n",
              "        vertical-align: middle;\n",
              "    }\n",
              "\n",
              "    .dataframe tbody tr th {\n",
              "        vertical-align: top;\n",
              "    }\n",
              "\n",
              "    .dataframe thead th {\n",
              "        text-align: right;\n",
              "    }\n",
              "</style>\n",
              "<table border=\"1\" class=\"dataframe\">\n",
              "  <thead>\n",
              "    <tr style=\"text-align: right;\">\n",
              "      <th></th>\n",
              "      <th>Before</th>\n",
              "      <th>After</th>\n",
              "      <th>Difference</th>\n",
              "    </tr>\n",
              "    <tr>\n",
              "      <th>Subject</th>\n",
              "      <th></th>\n",
              "      <th></th>\n",
              "      <th></th>\n",
              "    </tr>\n",
              "  </thead>\n",
              "  <tbody>\n",
              "    <tr>\n",
              "      <th>1</th>\n",
              "      <td>32</td>\n",
              "      <td>39</td>\n",
              "      <td>7</td>\n",
              "    </tr>\n",
              "    <tr>\n",
              "      <th>2</th>\n",
              "      <td>11</td>\n",
              "      <td>15</td>\n",
              "      <td>4</td>\n",
              "    </tr>\n",
              "    <tr>\n",
              "      <th>3</th>\n",
              "      <td>21</td>\n",
              "      <td>35</td>\n",
              "      <td>14</td>\n",
              "    </tr>\n",
              "    <tr>\n",
              "      <th>4</th>\n",
              "      <td>17</td>\n",
              "      <td>13</td>\n",
              "      <td>-4</td>\n",
              "    </tr>\n",
              "    <tr>\n",
              "      <th>5</th>\n",
              "      <td>30</td>\n",
              "      <td>41</td>\n",
              "      <td>11</td>\n",
              "    </tr>\n",
              "    <tr>\n",
              "      <th>6</th>\n",
              "      <td>38</td>\n",
              "      <td>39</td>\n",
              "      <td>1</td>\n",
              "    </tr>\n",
              "    <tr>\n",
              "      <th>7</th>\n",
              "      <td>14</td>\n",
              "      <td>22</td>\n",
              "      <td>8</td>\n",
              "    </tr>\n",
              "  </tbody>\n",
              "</table>\n",
              "</div>"
            ],
            "text/plain": [
              "         Before  After  Difference\n",
              "Subject                           \n",
              "1            32     39           7\n",
              "2            11     15           4\n",
              "3            21     35          14\n",
              "4            17     13          -4\n",
              "5            30     41          11\n",
              "6            38     39           1\n",
              "7            14     22           8"
            ]
          },
          "execution_count": 11,
          "metadata": {},
          "output_type": "execute_result"
        }
      ],
      "source": [
        "import gdown\n",
        "file_url = 'https://docs.google.com/uc?id=1VPOwYgABrqhwHNE8gE8AlhrIlxvu5Lyj'\n",
        "gdown.download(file_url, 'file.xlsx', quiet=False)\n",
        "df1 = pd.read_excel('file.xlsx',sheet_name = 'Video ratings',skiprows=13,usecols=['Subject', 'Before', 'After', 'Difference'], index_col= 'Subject')\n",
        "df1"
      ]
    },
    {
      "cell_type": "code",
      "execution_count": 12,
      "metadata": {},
      "outputs": [
        {
          "name": "stdout",
          "output_type": "stream",
          "text": [
            "file.xlsx has been deleted.\n"
          ]
        }
      ],
      "source": [
        "import os\n",
        "\n",
        "filename = 'file.xlsx' # replace with the name of your file\n",
        "\n",
        "try:\n",
        "    os.remove(filename)\n",
        "    print(f\"{filename} has been deleted.\")\n",
        "except OSError as e:\n",
        "    print(f\"Error: {filename} - {e.strerror}.\")\n"
      ]
    },
    {
      "cell_type": "code",
      "execution_count": 13,
      "metadata": {
        "colab": {
          "base_uri": "https://localhost:8080/"
        },
        "id": "9HCj2yRjLWaq",
        "outputId": "945e0e74-fc7f-4110-af1e-28af7ad52130"
      },
      "outputs": [],
      "source": [
        "df2=pd.DataFrame(columns=df1.columns)\n",
        "df2.loc[\"Mean\"]= df1.mean()\n",
        "df2.loc[\"Std Dev\"] = df1.std()"
      ]
    },
    {
      "cell_type": "code",
      "execution_count": 14,
      "metadata": {},
      "outputs": [
        {
          "name": "stdout",
          "output_type": "stream",
          "text": [
            "         Before  After  Difference\n",
            "Subject                           \n",
            "1            32     39           7\n",
            "2            11     15           4\n",
            "3            21     35          14\n",
            "4            17     13          -4\n",
            "5            30     41          11\n",
            "6            38     39           1\n",
            "7            14     22           8 \n",
            "\n",
            "\n",
            "\n",
            "             Before      After  Difference\n",
            "Mean     23.285714  29.142857    5.857143\n",
            "Std Dev  10.160615  12.116498    6.094494\n"
          ]
        }
      ],
      "source": [
        "print(df1,\"\\n\\n\\n\\n\",df2)"
      ]
    },
    {
      "attachments": {},
      "cell_type": "markdown",
      "metadata": {},
      "source": [
        "> Task 2: Determine the appropriate statistic to use\n",
        "\n",
        "The appropriate statistic to use for this scenario would be a paired t-test, also known as a dependent t-test. This is because the data involves comparing ratings of the same individuals before and after a treatment (in this case, viewing a video on the company) over a period of time (one week), and the ratings are assumed to be normally distributed in the population.\n",
        "\n",
        "A paired t-test is used when the same individuals are measured twice under different conditions, and it is ideal for situations where the data are paired or matched, such as pre-test and post-test measurements or repeated measures designs. In this case, the paired t-test would allow us to assess whether there is a statistically significant difference in the ratings of the company before and after the one-week video treatment. The alpha level of 0.05 would be used as the significance level to determine whether the observed difference in ratings is statistically significant or due to chance."
      ]
    },
    {
      "attachments": {},
      "cell_type": "markdown",
      "metadata": {},
      "source": [
        "> task 3 ---------------------------------------"
      ]
    },
    {
      "cell_type": "code",
      "execution_count": 15,
      "metadata": {},
      "outputs": [
        {
          "data": {
            "text/html": [
              "<div>\n",
              "<style scoped>\n",
              "    .dataframe tbody tr th:only-of-type {\n",
              "        vertical-align: middle;\n",
              "    }\n",
              "\n",
              "    .dataframe tbody tr th {\n",
              "        vertical-align: top;\n",
              "    }\n",
              "\n",
              "    .dataframe thead th {\n",
              "        text-align: right;\n",
              "    }\n",
              "</style>\n",
              "<table border=\"1\" class=\"dataframe\">\n",
              "  <thead>\n",
              "    <tr style=\"text-align: right;\">\n",
              "      <th></th>\n",
              "      <th>Before</th>\n",
              "      <th>After</th>\n",
              "      <th>Difference</th>\n",
              "    </tr>\n",
              "  </thead>\n",
              "  <tbody>\n",
              "    <tr>\n",
              "      <th>Mean</th>\n",
              "      <td>23.285714</td>\n",
              "      <td>29.142857</td>\n",
              "      <td>5.857143</td>\n",
              "    </tr>\n",
              "    <tr>\n",
              "      <th>Std Dev</th>\n",
              "      <td>10.160615</td>\n",
              "      <td>12.116498</td>\n",
              "      <td>6.094494</td>\n",
              "    </tr>\n",
              "    <tr>\n",
              "      <th>Lower_95</th>\n",
              "      <td>13.888713</td>\n",
              "      <td>17.936965</td>\n",
              "      <td>0.220676</td>\n",
              "    </tr>\n",
              "    <tr>\n",
              "      <th>Upper_95</th>\n",
              "      <td>32.682716</td>\n",
              "      <td>40.348749</td>\n",
              "      <td>11.493610</td>\n",
              "    </tr>\n",
              "  </tbody>\n",
              "</table>\n",
              "</div>"
            ],
            "text/plain": [
              "             Before      After  Difference\n",
              "Mean      23.285714  29.142857    5.857143\n",
              "Std Dev   10.160615  12.116498    6.094494\n",
              "Lower_95  13.888713  17.936965    0.220676\n",
              "Upper_95  32.682716  40.348749   11.493610"
            ]
          },
          "execution_count": 15,
          "metadata": {},
          "output_type": "execute_result"
        }
      ],
      "source": [
        "lower, upper = stats.t.interval(confidence=0.95,df=6,loc=df1.mean(),scale=df1.std()/np.sqrt(7)) # stats.sem(df1) is equivalent to df1.std()/np.sqrt(7)\n",
        "\n",
        "df2.loc[\"Lower_95\"]=np.array(lower)\n",
        "df2.loc[\"Upper_95\"]=np.array(upper)\n",
        "df2"
      ]
    },
    {
      "cell_type": "code",
      "execution_count": 16,
      "metadata": {
        "colab": {
          "base_uri": "https://localhost:8080/"
        },
        "id": "2zmEMo_vLihB",
        "outputId": "2a8f3142-f2b0-4099-b06f-e4818a15b81a"
      },
      "outputs": [
        {
          "name": "stdout",
          "output_type": "stream",
          "text": [
            "TtestResult(statistic=-2.542712059078773, pvalue=0.04391998543533062, df=6)\n",
            "Reject null hypothesis. There is enough evidence to conclude that, on average, the ratings have increased significantly\n"
          ]
        }
      ],
      "source": [
        "# Task 4: test if there is enough evidence to conclude that the ratings have increased significantly\n",
        "\n",
        "res1= stats.ttest_rel(df1[\"Before\"], df1[\"After\"])\n",
        "print(res1)\n",
        "\n",
        "if res1[1] < 0.05:\n",
        "    print(\"Reject null hypothesis. There is enough evidence to conclude that, on average, the ratings have increased significantly\")\n",
        "else:\n",
        "    print(\"Fail to reject null hypothesis. There is not enough evidence to conclude that, on average, the ratings have increased significantly.\")\n"
      ]
    },
    {
      "cell_type": "code",
      "execution_count": 17,
      "metadata": {
        "id": "L83zY_QCLtYq"
      },
      "outputs": [
        {
          "data": {
            "text/html": [
              "<div>\n",
              "<style scoped>\n",
              "    .dataframe tbody tr th:only-of-type {\n",
              "        vertical-align: middle;\n",
              "    }\n",
              "\n",
              "    .dataframe tbody tr th {\n",
              "        vertical-align: top;\n",
              "    }\n",
              "\n",
              "    .dataframe thead th {\n",
              "        text-align: right;\n",
              "    }\n",
              "</style>\n",
              "<table border=\"1\" class=\"dataframe\">\n",
              "  <thead>\n",
              "    <tr style=\"text-align: right;\">\n",
              "      <th></th>\n",
              "      <th>Before</th>\n",
              "      <th>After</th>\n",
              "      <th>Difference</th>\n",
              "    </tr>\n",
              "  </thead>\n",
              "  <tbody>\n",
              "    <tr>\n",
              "      <th>Mean</th>\n",
              "      <td>23.285714</td>\n",
              "      <td>29.142857</td>\n",
              "      <td>5.857143</td>\n",
              "    </tr>\n",
              "    <tr>\n",
              "      <th>Std Dev</th>\n",
              "      <td>10.160615</td>\n",
              "      <td>12.116498</td>\n",
              "      <td>6.094494</td>\n",
              "    </tr>\n",
              "    <tr>\n",
              "      <th>Lower_95</th>\n",
              "      <td>13.888713</td>\n",
              "      <td>17.936965</td>\n",
              "      <td>0.220676</td>\n",
              "    </tr>\n",
              "    <tr>\n",
              "      <th>Upper_95</th>\n",
              "      <td>32.682716</td>\n",
              "      <td>40.348749</td>\n",
              "      <td>11.493610</td>\n",
              "    </tr>\n",
              "    <tr>\n",
              "      <th>Lower_90</th>\n",
              "      <td>15.823219</td>\n",
              "      <td>20.243857</td>\n",
              "      <td>1.381023</td>\n",
              "    </tr>\n",
              "    <tr>\n",
              "      <th>Upper_90</th>\n",
              "      <td>30.748210</td>\n",
              "      <td>38.041857</td>\n",
              "      <td>10.333263</td>\n",
              "    </tr>\n",
              "    <tr>\n",
              "      <th>Lower_99</th>\n",
              "      <td>9.047888</td>\n",
              "      <td>12.164298</td>\n",
              "      <td>-2.682926</td>\n",
              "    </tr>\n",
              "    <tr>\n",
              "      <th>Upper_99</th>\n",
              "      <td>37.523541</td>\n",
              "      <td>46.121416</td>\n",
              "      <td>14.397212</td>\n",
              "    </tr>\n",
              "  </tbody>\n",
              "</table>\n",
              "</div>"
            ],
            "text/plain": [
              "             Before      After  Difference\n",
              "Mean      23.285714  29.142857    5.857143\n",
              "Std Dev   10.160615  12.116498    6.094494\n",
              "Lower_95  13.888713  17.936965    0.220676\n",
              "Upper_95  32.682716  40.348749   11.493610\n",
              "Lower_90  15.823219  20.243857    1.381023\n",
              "Upper_90  30.748210  38.041857   10.333263\n",
              "Lower_99   9.047888  12.164298   -2.682926\n",
              "Upper_99  37.523541  46.121416   14.397212"
            ]
          },
          "execution_count": 17,
          "metadata": {},
          "output_type": "execute_result"
        }
      ],
      "source": [
        "lower, upper = stats.t.interval(confidence=0.90,df=6,loc=df1.mean(),scale=df1.std()/np.sqrt(7))\n",
        "\n",
        "df2.loc[\"Lower_90\"]=np.array(lower)\n",
        "df2.loc[\"Upper_90\"]=np.array(upper)\n",
        "\n",
        "lower, upper = stats.t.interval(confidence=0.99,df=6,loc=df1.mean(),scale=df1.std()/np.sqrt(7))\n",
        "\n",
        "df2.loc[\"Lower_99\"]=np.array(lower)\n",
        "df2.loc[\"Upper_99\"]=np.array(upper)\n",
        "df2"
      ]
    }
  ],
  "metadata": {
    "colab": {
      "provenance": []
    },
    "kernelspec": {
      "display_name": "Python 3",
      "language": "python",
      "name": "python3"
    },
    "language_info": {
      "codemirror_mode": {
        "name": "ipython",
        "version": 3
      },
      "file_extension": ".py",
      "mimetype": "text/x-python",
      "name": "python",
      "nbconvert_exporter": "python",
      "pygments_lexer": "ipython3",
      "version": "3.10.9"
    },
    "vscode": {
      "interpreter": {
        "hash": "c6b0b9fcd670ff652af098b0137c1316d51fb388378f2f11c0dcd1dee27c830e"
      }
    }
  },
  "nbformat": 4,
  "nbformat_minor": 0
}
